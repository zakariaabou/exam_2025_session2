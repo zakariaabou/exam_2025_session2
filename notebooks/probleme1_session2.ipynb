{
  "cells": [
    {
      "cell_type": "markdown",
      "source": [
        "#Problème - Session n°2 : une variable cachée"
      ],
      "metadata": {
        "id": "GYE9s4-HA1o_"
      },
      "id": "GYE9s4-HA1o_"
    },
    {
      "cell_type": "markdown",
      "source": [
        "Dans ce problème, on travaille sur un jeu de données comportant 50.000 entrées $x_i$ et des cibles $y_i$. Les entrées sont des vecteurs de taille 10 (au format torch), les cibles sont des scalaires construits à partir de cinq fonctions différentes ($f_0$, ..., $f_4$) : \\\n",
        "\n",
        "$$ \\forall i, \\exists k\\in [\\![0 \\;;4]\\!]  \\:\\: \\text{tel que} \\: f_k(x_i) = y_i $$\n",
        "\n",
        "Ces fonctions sont inconnues, ainsi que l'indice $k$. Par contre, on sait que le groupe des 1000 premières cibles ont été construites à partir du même indice  $k$, de même pour les mille  suivantes, et ainsi de suite.\n",
        "\n",
        "Le but est de parvenir à rassembler les groupes de cibles qui ont été générées avec le même indice $k$ (avec la même fonction)."
      ],
      "metadata": {
        "id": "pknhArHLLPP-"
      },
      "id": "pknhArHLLPP-"
    },
    {
      "cell_type": "code",
      "source": [
        "# Example d'échantillonnage du dataset\n",
        "import torch\n",
        "from torch.utils.data import DataLoader\n",
        "import torch.nn as nn\n",
        "import torch.optim as optim\n",
        "\n",
        "! git clone https://github.com/zakariaabou/exam_2025_session2.git\n",
        "! cp exam_2025_session2/utils/utils.py .\n",
        "from utils import Problem1Dataset\n",
        "\n",
        "dataset = Problem1Dataset()\n",
        "dataloader = DataLoader(dataset, batch_size=32, shuffle=True)\n",
        "\n",
        "for batch in dataloader:\n",
        "    x_batch, y_batch, k_batch, idx_batch = batch\n",
        "    print(\"Batch input shape:\", x_batch.shape)\n",
        "    print(\"Batch target shape:\", y_batch.shape)\n",
        "    print(\"Batch k shape:\", k_batch.shape) # indice k (pas utilisable à l'entraînement)\n",
        "    print(\"Batch indices shape:\", idx_batch.shape)\n",
        "    break"
      ],
      "metadata": {
        "id": "zqFIZKgTPK14",
        "outputId": "e7ad813a-a2a0-4670-9254-f476d5daec82",
        "colab": {
          "base_uri": "https://localhost:8080/"
        }
      },
      "id": "zqFIZKgTPK14",
      "execution_count": 1,
      "outputs": [
        {
          "output_type": "stream",
          "name": "stdout",
          "text": [
            "Cloning into 'exam_2025_session2'...\n",
            "remote: Enumerating objects: 101, done.\u001b[K\n",
            "remote: Counting objects: 100% (101/101), done.\u001b[K\n",
            "remote: Compressing objects: 100% (97/97), done.\u001b[K\n",
            "remote: Total 101 (delta 31), reused 8 (delta 1), pack-reused 0 (from 0)\u001b[K\n",
            "Receiving objects: 100% (101/101), 1.40 MiB | 3.59 MiB/s, done.\n",
            "Resolving deltas: 100% (31/31), done.\n",
            "Batch input shape: torch.Size([32, 10])\n",
            "Batch target shape: torch.Size([32, 1])\n",
            "Batch k shape: torch.Size([32])\n",
            "Batch indices shape: torch.Size([32])\n"
          ]
        }
      ]
    },
    {
      "cell_type": "markdown",
      "source": [
        "**Consignes :**\n",
        "- Entraîner l'architecture proposée dans la cellule suivante.\n",
        "- Montrer que les vecteurs 2D de self.theta permettent de répondre\n",
        "  au problème posé.\n",
        "- Décrire le rôle de self.theta, du vector noise \\\n",
        " et ainsi que la raison de la division par 1000 (**indices // 1000** dans le code)."
      ],
      "metadata": {
        "id": "-q1zuebPPvob"
      },
      "id": "-q1zuebPPvob"
    },
    {
      "cell_type": "code",
      "source": [
        "class DeepMLP(nn.Module):\n",
        "    def __init__(self, input_dim, output_dim, hidden_dim=256):\n",
        "        super(DeepMLP, self).__init__()\n",
        "        self.theta = nn.Parameter(torch.randn(50, 2))\n",
        "        self.fc1 = nn.Linear(input_dim + 2, hidden_dim)\n",
        "        self.fc2 = nn.Linear(hidden_dim, hidden_dim)\n",
        "        self.fc3 = nn.Linear(hidden_dim, hidden_dim)\n",
        "        self.fc4 = nn.Linear(hidden_dim, output_dim)\n",
        "\n",
        "    def forward(self, x, indices):\n",
        "        theta_batch = self.theta[indices // 1000, :]\n",
        "        noise = torch.normal(mean=torch.zeros_like(theta_batch),\n",
        "                             std=torch.ones_like(theta_batch))\n",
        "        x = torch.cat([x, theta_batch + noise], dim=1)\n",
        "        x = torch.relu(self.fc1(x))\n",
        "        x = torch.relu(self.fc2(x))\n",
        "        x = torch.relu(self.fc3(x))\n",
        "        x = self.fc4(x)\n",
        "        return x, theta_batch"
      ],
      "metadata": {
        "id": "idbO80HfPdiQ"
      },
      "id": "idbO80HfPdiQ",
      "execution_count": 2,
      "outputs": []
    },
    {
      "cell_type": "code",
      "source": [
        "import torch\n",
        "import torch.nn as nn\n",
        "import torch.optim as optim\n",
        "from torch.utils.data import DataLoader\n",
        "\n",
        "# Vérifier si un GPU est disponible\n",
        "device = torch.device(\"cuda\" if torch.cuda.is_available() else \"cpu\")\n",
        "\n",
        "# Définir le modèle et les paramètres\n",
        "# J'ai utilisé 500 au lieu de 2000 car cela prend beaucoup de temps\n",
        "num_epochs = 500\n",
        "batch_size = 32  # A régler\n",
        "loss_fn = nn.MSELoss()  # Mean Squared Error pour la régression\n",
        "\n",
        "# Chargement des données\n",
        "dataset = Problem1Dataset()\n",
        "dataloader = DataLoader(dataset, batch_size=batch_size, shuffle=True)\n",
        "\n",
        "# Initialisation du modèle\n",
        "input_dim = 10  # Les entrées sont des vecteurs de taille 10\n",
        "output_dim = 1   # Les cibles sont des scalaires\n",
        "model = DeepMLP(input_dim, output_dim).to(device)  # Déplacer le modèle vers le GPU\n",
        "optimizer = optim.Adam(model.parameters(), lr=0.001)\n",
        "\n",
        "# Entraînement du modèle\n",
        "for epoch in range(num_epochs):\n",
        "    for x_batch, y_batch, _, idx_batch in dataloader:\n",
        "        # Déplacer les données vers le périphérique (GPU ou CPU)\n",
        "        x_batch, y_batch, idx_batch = x_batch.to(device), y_batch.to(device), idx_batch.to(device)\n",
        "\n",
        "        optimizer.zero_grad()\n",
        "        predictions, _ = model(x_batch, idx_batch)\n",
        "        loss = loss_fn(predictions, y_batch)\n",
        "        loss.backward()\n",
        "        optimizer.step()\n",
        "\n",
        "    if (epoch + 1) % 10 == 0:\n",
        "        print(f\"Epoch {epoch+1}/{num_epochs}, Loss: {loss.item()}\")"
      ],
      "metadata": {
        "id": "UVmpuK5mnXY5",
        "outputId": "f3803b4d-e9ea-4550-f49c-4956f88a6129",
        "colab": {
          "base_uri": "https://localhost:8080/"
        }
      },
      "id": "UVmpuK5mnXY5",
      "execution_count": 4,
      "outputs": [
        {
          "output_type": "stream",
          "name": "stdout",
          "text": [
            "Epoch 10/500, Loss: 19.767757415771484\n",
            "Epoch 20/500, Loss: 3.383371114730835\n",
            "Epoch 30/500, Loss: 2.226985454559326\n",
            "Epoch 40/500, Loss: 1.465162754058838\n",
            "Epoch 50/500, Loss: 1.3934561014175415\n",
            "Epoch 60/500, Loss: 0.8058392405509949\n",
            "Epoch 70/500, Loss: 0.4197617173194885\n",
            "Epoch 80/500, Loss: 0.5341144800186157\n",
            "Epoch 90/500, Loss: 0.6725149154663086\n",
            "Epoch 100/500, Loss: 0.47523653507232666\n",
            "Epoch 110/500, Loss: 0.7002615332603455\n",
            "Epoch 120/500, Loss: 0.5910447835922241\n",
            "Epoch 130/500, Loss: 0.7235008478164673\n",
            "Epoch 140/500, Loss: 0.6092350482940674\n",
            "Epoch 150/500, Loss: 0.4122421145439148\n",
            "Epoch 160/500, Loss: 0.7145518660545349\n",
            "Epoch 170/500, Loss: 0.692379355430603\n",
            "Epoch 180/500, Loss: 0.5032064914703369\n",
            "Epoch 190/500, Loss: 0.8663976192474365\n",
            "Epoch 200/500, Loss: 0.590544581413269\n",
            "Epoch 210/500, Loss: 0.5597082376480103\n",
            "Epoch 220/500, Loss: 0.5058039426803589\n",
            "Epoch 230/500, Loss: 0.2400279939174652\n",
            "Epoch 240/500, Loss: 0.35724735260009766\n",
            "Epoch 250/500, Loss: 0.6173841953277588\n",
            "Epoch 260/500, Loss: 0.38972967863082886\n",
            "Epoch 270/500, Loss: 0.9283557534217834\n",
            "Epoch 280/500, Loss: 0.26471462845802307\n",
            "Epoch 290/500, Loss: 0.2877560257911682\n",
            "Epoch 300/500, Loss: 0.5275751352310181\n",
            "Epoch 310/500, Loss: 0.18764670193195343\n",
            "Epoch 320/500, Loss: 0.3266516923904419\n",
            "Epoch 330/500, Loss: 0.3722212314605713\n",
            "Epoch 340/500, Loss: 0.6612051129341125\n",
            "Epoch 350/500, Loss: 0.47612065076828003\n",
            "Epoch 360/500, Loss: 0.3740587830543518\n",
            "Epoch 370/500, Loss: 0.3750704824924469\n",
            "Epoch 380/500, Loss: 0.2162359207868576\n",
            "Epoch 390/500, Loss: 0.2459951937198639\n",
            "Epoch 400/500, Loss: 0.38481685519218445\n",
            "Epoch 410/500, Loss: 0.4537737965583801\n",
            "Epoch 420/500, Loss: 0.6934400200843811\n",
            "Epoch 430/500, Loss: 0.27823036909103394\n",
            "Epoch 440/500, Loss: 0.27394211292266846\n",
            "Epoch 450/500, Loss: 0.288943886756897\n",
            "Epoch 460/500, Loss: 0.3189561367034912\n",
            "Epoch 470/500, Loss: 0.2866162955760956\n",
            "Epoch 480/500, Loss: 0.32841819524765015\n",
            "Epoch 490/500, Loss: 0.31329038739204407\n",
            "Epoch 500/500, Loss: 0.3267763555049896\n"
          ]
        }
      ]
    },
    {
      "cell_type": "code",
      "source": [
        "import matplotlib.pyplot as plt\n",
        "\n",
        "# Récupération des vecteurs theta après entraînement\n",
        "theta = model.theta.detach().cpu().numpy()\n",
        "\n",
        "# Visualisation des vecteurs theta\n",
        "plt.figure(figsize=(10, 8))\n",
        "plt.scatter(theta[:, 0], theta[:, 1], c=range(50), cmap='viridis')\n",
        "plt.colorbar(label='Groupe')\n",
        "plt.title(\"Visualisation des vecteurs theta après entraînement\")\n",
        "plt.xlabel(\"Theta 1\")\n",
        "plt.ylabel(\"Theta 2\")\n",
        "plt.show()"
      ],
      "metadata": {
        "id": "OIGOslgR9fau",
        "outputId": "eda891f1-3239-43e4-e5b3-5971096a990f",
        "colab": {
          "base_uri": "https://localhost:8080/",
          "height": 719
        }
      },
      "id": "OIGOslgR9fau",
      "execution_count": 5,
      "outputs": [
        {
          "output_type": "display_data",
          "data": {
            "text/plain": [
              "<Figure size 1000x800 with 2 Axes>"
            ],
            "image/png": "[encoded data removed]"
          },
          "metadata": {}
        }
      ]
    }
  ],
  "metadata": {
    "colab": {
      "provenance": [],
      "gpuType": "T4"
    },
    "kernelspec": {
      "display_name": "Python 3",
      "name": "python3"
    },
    "language_info": {
      "codemirror_mode": {
        "name": "ipython",
        "version": 3
      },
      "file_extension": ".py",
      "mimetype": "text/x-python",
      "name": "python",
      "nbconvert_exporter": "python",
      "pygments_lexer": "ipython3",
      "version": "3.9.15"
    },
    "accelerator": "GPU"
  },
  "nbformat": 4,
  "nbformat_minor": 5
}