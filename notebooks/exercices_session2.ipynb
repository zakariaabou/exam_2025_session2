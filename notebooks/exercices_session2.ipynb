{
  "cells": [
    {
      "cell_type": "markdown",
      "metadata": {
        "id": "_CACBFsndOCo"
      },
      "source": [
        "# Exercices"
      ]
    },
    {
      "cell_type": "markdown",
      "source": [
        "## **Préliminaires**: Clone de votre repo et imports"
      ],
      "metadata": {
        "id": "hfkMtaHleKAa"
      }
    },
    {
      "cell_type": "code",
      "source": [
        "# fonctions utiles pour l'ensemble des exercices:\n",
        "! git clone https://github.com/XXXXXXX/exam_2025_session2.git\n",
        "! cp exam_2025_session2/utils/utils.py .\n",
        "import copy\n",
        "import numpy as np\n",
        "import torch\n",
        "import matplotlib.pyplot as plt\n",
        "from utils import gen_dr, gen_d, gen_ex2, gen_dr_train,gen_dr_test, voir_batch2D, UNet, make_batch"
      ],
      "metadata": {
        "id": "CpYWAhG3UHc0"
      },
      "execution_count": null,
      "outputs": []
    },
    {
      "cell_type": "markdown",
      "source": [
        "\\\n",
        "\n",
        "---\n",
        "\n",
        "\\"
      ],
      "metadata": {
        "id": "TRWBLVpCWC06"
      }
    },
    {
      "cell_type": "markdown",
      "source": [
        "\\\n",
        "\n",
        "**Exercice 1** *Une segmentation dans un contexte faiblement supervisé*\n",
        "\n",
        "La fonction *gen_dr* permet de synthétiser des disques mêlés à des rectangles. Ici, les disques sont considérés comme du bruit, et le processus de corruption non en une somme (image = image_disques + image_rectangles) mais en une substitution (voir ci-dessous).\n",
        "Elle fournit aussi une cible idéale, qui, en pratique, n'est pas disponible.\n"
      ],
      "metadata": {
        "id": "C_Op6m7bEm-c"
      }
    },
    {
      "cell_type": "code",
      "source": [
        "input, ideal_targets = gen_dr(6)\n",
        "# Inputs\n",
        "fig0 = plt.figure(0, figsize=(36, 6))\n",
        "voir_batch2D(input, 6, fig0, k=0, min_scale=0,max_scale=1)\n",
        "\n",
        "# ideal targets\n",
        "fig1 = plt.figure(0, figsize=(36, 6))\n",
        "voir_batch2D(ideal_targets, 6, fig1, k=0, min_scale=0,max_scale=1)"
      ],
      "metadata": {
        "id": "_Yp6xqVSVdwb"
      },
      "execution_count": null,
      "outputs": []
    },
    {
      "cell_type": "markdown",
      "source": [
        "On dispose aussi d'une fonction *gen_d* qui synthétise des images comportant des disques :"
      ],
      "metadata": {
        "id": "8a4QTfbzGx9S"
      }
    },
    {
      "cell_type": "code",
      "source": [
        "discs = gen_d(6)\n",
        "# Discs\n",
        "fig2 = plt.figure(0, figsize=(36, 6))\n",
        "voir_batch2D(discs, 6, fig2, k=0, min_scale=0,max_scale=1)\n"
      ],
      "metadata": {
        "id": "eTC6-4rBWHmj"
      },
      "execution_count": null,
      "outputs": []
    },
    {
      "cell_type": "markdown",
      "source": [
        "**Q1** Rappeler ce qu'est la supervision faible. En quoi ce problème peut-il entrer dans cette catégorie ?"
      ],
      "metadata": {
        "id": "F3ZwckMqGBjq"
      }
    },
    {
      "cell_type": "markdown",
      "source": [
        "La supervision faible consiste à apprendre à partir de données partiellement étiquetées, bruitées ou imprécises. Dans cet exercice, la segmentation doit être effectuée sur des images corrompues (avec des disques ajoutés comme bruit), sans disposer d'une cible idéale précise. Cela correspond à un cas de supervision faible, car la cible idéale (sans bruit) n'est pas disponible, et le modèle doit apprendre à partir des données corrompues."
      ],
      "metadata": {
        "id": "rNFjzXf2xP6h"
      }
    },
    {
      "cell_type": "markdown",
      "source": [
        "**Q2** Utiliser un UNet pour dire, pour une image produite par gen_dr, où sont les pixels qui étaient affectés par des rectangles **avant** corruption. Entraînez-le sur une cinquantaine d'époques. Utilisez la cible idéale pour contrôler la convergence. Visualiser quelques sorties après entraînement. Commentez."
      ],
      "metadata": {
        "id": "2g3XFOz_GILS"
      }
    },
    {
      "cell_type": "code",
      "source": [],
      "metadata": {
        "id": "_qHOmA-bWUoD"
      },
      "execution_count": null,
      "outputs": []
    },
    {
      "cell_type": "markdown",
      "metadata": {
        "id": "t5RcggmAkJLV"
      },
      "source": [
        "\\\n",
        "\n",
        "**Exercice 2** *Une régression quantile*\n",
        "\n",
        "La fonction *gen_ex2* permet de synthétiser des entrées / cibles à la volée :  \n",
        "\n",
        "\n"
      ]
    },
    {
      "cell_type": "code",
      "source": [
        "# sampling (x,y) :\n",
        "\n",
        "inputs, targets = gen_ex2(6)\n",
        "# Inputs\n",
        "fig0 = plt.figure(0, figsize=(36, 6))\n",
        "voir_batch2D(inputs, 6, fig0, k=0, min_scale=0,max_scale=1)\n",
        "\n",
        "# Targets\n",
        "print(targets)"
      ],
      "metadata": {
        "id": "kUMjPeyG7yBX"
      },
      "execution_count": null,
      "outputs": []
    },
    {
      "cell_type": "markdown",
      "source": [
        "**Q1** Définir un Loader à partir du Dataset précédent (2 workers)"
      ],
      "metadata": {
        "id": "q5XZTrXNk12K"
      }
    },
    {
      "cell_type": "markdown",
      "source": [],
      "metadata": {
        "id": "MXGXg8tlPULY"
      }
    },
    {
      "cell_type": "markdown",
      "source": [
        "**Q2** Entraîner un ResNet18 à prédire la médiane conditionnelle à l'image d'entrée. Justifier l'absence d'une étape de validation."
      ],
      "metadata": {
        "id": "CH_Z5ZEIlQPE"
      }
    },
    {
      "cell_type": "code",
      "source": [
        "from torchvision.models import resnet18\n",
        "\n",
        "..."
      ],
      "metadata": {
        "id": "WcioBFcA1Y5o"
      },
      "execution_count": null,
      "outputs": []
    },
    {
      "cell_type": "markdown",
      "source": [
        "**Q3** Modifier votre ResNet18 de manière à prédire aussi les premier et troisième quartiles. Préciser le nom de la fonction de coût utilisée."
      ],
      "metadata": {
        "id": "g6BSTBitpGBD"
      }
    },
    {
      "cell_type": "markdown",
      "source": [
        "**Q4** Après entraînement, évaluer les écarts interquartiles sur un batch de taille 64. Ces écarts semblent-ils dépendre de l'image d'entrée ?"
      ],
      "metadata": {
        "id": "zaOSw_rJ1vF3"
      }
    },
    {
      "cell_type": "markdown",
      "source": [
        "**Q5 (Bonus)** On fait l'hypothèse que la sortie ne dépend que des disques. On suppose aussi qu'on ait accès, comme à l'exercice 1 à un jeu de données d'images ne comportant que des disques (fonction gen_d). Que feriez-vous pour tester cette hypothèse ? Répondez sans code, mais avec précision."
      ],
      "metadata": {
        "id": "OZwKogEEp2Fr"
      }
    },
    {
      "cell_type": "markdown",
      "source": [
        "\\\n",
        "\n",
        "---\n",
        "\n",
        "\\"
      ],
      "metadata": {
        "id": "VvV2jIrBNtzf"
      }
    },
    {
      "cell_type": "markdown",
      "source": [
        "**Exercice 3** *Nettoyage et adaptation de domaine*"
      ],
      "metadata": {
        "id": "CpRvXCaAtsIN"
      }
    },
    {
      "cell_type": "markdown",
      "source": [
        "Comme à l'exercice 1, les disques sont considérés comme du bruit. Mais par contre, il s'agit d'une tâche de nettoyage et on se place dans le cas où des entrées et des cibles idéales sont disponibles en grand nombre à l'entraînement (fonction *gen_dr_train*)."
      ],
      "metadata": {
        "id": "mVMRirAta1e9"
      }
    },
    {
      "cell_type": "code",
      "source": [
        "input, targets = gen_dr_train(6)\n",
        "# Inputs (train)\n",
        "fig0 = plt.figure(0, figsize=(36, 6))\n",
        "voir_batch2D(input, 6, fig0, k=0, min_scale=0,max_scale=1)\n",
        "\n",
        "# targets (train)\n",
        "fig1 = plt.figure(0, figsize=(36, 6))\n",
        "voir_batch2D(targets, 6, fig1, k=0, min_scale=0,max_scale=1)"
      ],
      "metadata": {
        "id": "yBOL4N4Waz9_"
      },
      "execution_count": null,
      "outputs": []
    },
    {
      "cell_type": "markdown",
      "source": [
        "Par contre, on suppose que les images disponibles à l'entraînement ne suivent pas les mêmes statistiques que les données test, échantillonnables avec la fonction gen_dr_test suivante :"
      ],
      "metadata": {
        "id": "chqojsP0cj5V"
      }
    },
    {
      "cell_type": "code",
      "source": [
        "input, targets = gen_dr_test(6)\n",
        "# Inputs (test)\n",
        "fig0 = plt.figure(0, figsize=(36, 6))\n",
        "voir_batch2D(input, 6, fig0, k=0, min_scale=0,max_scale=1)\n",
        "\n",
        "# targets (test)\n",
        "fig1 = plt.figure(0, figsize=(36, 6))\n",
        "voir_batch2D(targets, 6, fig1, k=0, min_scale=0,max_scale=1)"
      ],
      "metadata": {
        "id": "ojo1kCOpfWlV"
      },
      "execution_count": null,
      "outputs": []
    },
    {
      "cell_type": "markdown",
      "source": [
        "Ce qu'on voit en effet, c'est que les images test sont plus chargées en figures géométriques. \\\n",
        "Dans la réalité, ce cas de figure se présente lorsque :\n",
        " - les données propres au test (ie, représentatives des données à traiter en inférence) sont en trop petit nombre pour être exploitées à l'entraînement\n",
        " - un large jeu de données dont les statistiques sont différentes de celles des données d'inférence est disponible."
      ],
      "metadata": {
        "id": "Gxhm7Sg-dA1s"
      }
    },
    {
      "cell_type": "markdown",
      "source": [
        "**Q1** A l'aide d'internet, décrire ce que recouvre le mot clef \"domain adaptation\" et faites le lien avec l'énoncé."
      ],
      "metadata": {
        "id": "QZmPxdsZfT1d"
      }
    },
    {
      "cell_type": "markdown",
      "source": [
        "**Q2** Sur des entraînements courts (20 - 40 époques) avec des UNet, évaluer l'impact sur les performances sur le jeu de test lorsque les données sont entraînées avec gen_dr_train plutôt que dans une situation idéale."
      ],
      "metadata": {
        "id": "2qajcIBrf6xc"
      }
    },
    {
      "cell_type": "markdown",
      "source": [
        "**Q3 (Bonus)** Proposez une méthode simple pour améliorer les performances."
      ],
      "metadata": {
        "id": "PY7YFbL7gNxb"
      }
    },
    {
      "cell_type": "markdown",
      "source": [
        "\\\n",
        "\n",
        "---\n",
        "\n",
        "\\"
      ],
      "metadata": {
        "id": "qV52tusgNn6A"
      }
    },
    {
      "cell_type": "markdown",
      "source": [
        "**Exercice 4** Un article important"
      ],
      "metadata": {
        "id": "Gp9IVzoVL2Nz"
      }
    },
    {
      "cell_type": "markdown",
      "source": [
        "Parcourir rapidement l'article : https://arxiv.org/abs/1505.04597.\n",
        "Préciser :\n",
        "- la nature du problème de Machine Learning abordé.\n",
        "- quelles méthodes d'augmentation de données sont utilisées.\n",
        "- l'origine du déséquilibre entre les classes cibles et la façon dont elle il est traité (de manière synthétique)."
      ],
      "metadata": {
        "id": "0dQ9vX4uiKr7"
      }
    }
  ],
  "metadata": {
    "colab": {
      "provenance": [],
      "machine_shape": "hm",
      "gpuType": "A100"
    },
    "kernelspec": {
      "display_name": "Python 3",
      "name": "python3"
    },
    "accelerator": "GPU"
  },
  "nbformat": 4,
  "nbformat_minor": 0
}